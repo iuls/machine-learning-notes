{
 "cells": [
  {
   "cell_type": "markdown",
   "metadata": {},
   "source": [
    "# Exploring Support  Vector Machines"
   ]
  },
  {
   "cell_type": "markdown",
   "metadata": {},
   "source": [
    "In this notebook, I'll explain how to use quadratic programming (cvxopt) to find the solution to the dual version of the soft margin SVM optimization problem. I'll also show how to implement the Pegasos algorithm for soft margin SVMs, which uses stochastic gradient descent and a decaying step size. This write-up was inspired by homework from MIT course 6.867 (Machine Learning). \n",
    "\n",
    "The solution to the soft margin SVM can be found by solving the following optimization problem:"
   ]
  },
  {
   "cell_type": "markdown",
   "metadata": {},
   "source": [
    "\\begin{align*} &\\min_{w, b} \\frac{1}{2} \\lVert w \\rVert^2 + C\\sum_{i}^N \\xi_i \\\\ \\text{subject to}\\; \\; \\; &y_i(w^Tx_i + b) \\geq 1 - \\xi_i,  \\; \\xi_i \\geq 0 \\; \\forall i \\end{align*}"
   ]
  },
  {
   "cell_type": "markdown",
   "metadata": {},
   "source": [
    "The dual optimization problem is:"
   ]
  },
  {
   "cell_type": "markdown",
   "metadata": {},
   "source": [
    "\\begin{align*} \n",
    "&\\max_{\\alpha}  \\sum_{i=1}^N \\alpha_i - \\frac{1}{2}\\sum_{i=1}^N \\sum_{i'=1}^N \\alpha_i \\alpha_{i'}y_i y_{i'}x_i^T x_{i'} \\\\\n",
    "\\text{subject to} \\; \\; \\; &\\sum_{i=1}^N \\alpha_i y_i = 0, \\; 0 \\leq \\alpha_i \\leq C \\; \\forall i\n",
    "\\end{align*}"
   ]
  },
  {
   "cell_type": "markdown",
   "metadata": {},
   "source": [
    "An important thing to note here is that the values of $\\alpha_i$ inform us about the location of the $x_i$ with respect to the classifier. In particular, \n"
   ]
  },
  {
   "cell_type": "markdown",
   "metadata": {},
   "source": [
    "\\begin{align*} & \\alpha_i = C \\quad \\text{if} \\quad &y_if(x_i) < 1 \\\\\n",
    "& 0 < \\alpha_i < C \\quad \\text{if} &\\quad y_if(x_i) = 1 \\\\ & \\alpha_i = 0 \\quad \\text{if} \\quad &y_if(x_i) > 1\n",
    "\\end{align*}"
   ]
  },
  {
   "cell_type": "markdown",
   "metadata": {},
   "source": [
    "By definition support vectors are all $x_i$ having $\\alpha_i >0$ (note that this includes all points that are misclassified as well as points that are correctly classified and on or within the margin). The conditions above tell us that the support vectors that are right on the margin are the ones satisfying $0 < \\alpha_i < C$. Points that are correctly classified with margin have $\\alpha_i = 0$.\n",
    "It is also useful to translate from the dual to primal optimization solutions. We have that $$w = \\sum_{i=1}^N \\alpha_ix_iy_i.$$ To calculate $b$ we may use any one of the support vectors $x_s$ living on the margin (i.e., having $0 < \\alpha_i <C$) since $b = 1 - w^Tx_s$ in that case. Many sources recommend taking the mean over all such support vectors during implementation for numerical stability. It is entirely possible however, that there are no points for which $0 < \\alpha_i <C$. In this case we may find $b$ by examining the initial optimization problem. This boils down to solving $$\\text{argmin}_b \\sum_{s}\\max(0, 1- y_s(w^Tx_s + b))$$ where the sum is taken over all support vectors. (This is obtained from the original optimization problem by discarding the terms coming from points that are correctly classified with margin and therefore have $\\max(0, 1- y_s(w^Tx_s + b)) = 0$, as well as discarding the regularization term which has been optimized. Since for a support vector $1- y_s(w^Tx_s + b)\\geq 0$, the above optimization problem is equivalent to $$\\text{argmin}_b \\sum_{s}(1- y_s(w^Tx_s + b)) = \\text{argmin}_b \\sum_s (y_s - w^Tx_s - b)$$ whose solution is the median of the $y_s - w^Tx_s$ values. "
   ]
  },
  {
   "cell_type": "markdown",
   "metadata": {},
   "source": [
    "Now, in order to use cvxopt to solve the dual optimization problem, we must transform it into the form:"
   ]
  },
  {
   "cell_type": "markdown",
   "metadata": {},
   "source": [
    "\\begin{align*}\n",
    "&\\min_x \\frac{1}{2}x^TPx + q^Tx \\\\\n",
    "\\text{subject to} \\quad & Gx < h, Ax = b\n",
    "\\end{align*}"
   ]
  },
  {
   "cell_type": "markdown",
   "metadata": {},
   "source": [
    "To do this we will consider instead the minimization problem:"
   ]
  },
  {
   "cell_type": "markdown",
   "metadata": {},
   "source": [
    "$$\\min_{\\alpha} \\frac{1}{2}\\sum_{i=1}^N \\sum_{i'=1}^N \\alpha_i \\alpha_{i'}y_i y_{i'}x_i^T x_{i'} -\\sum_{i=1}^N \\alpha_i.$$"
   ]
  },
  {
   "cell_type": "code",
   "execution_count": 48,
   "metadata": {},
   "outputs": [],
   "source": [
    "import numpy as np\n",
    "from cvxopt import matrix, solvers\n",
    "import statistics \n",
    "import math\n",
    "import matplotlib.pyplot as plt"
   ]
  },
  {
   "cell_type": "code",
   "execution_count": 3,
   "metadata": {},
   "outputs": [],
   "source": [
    "kernel = np.dot"
   ]
  },
  {
   "cell_type": "code",
   "execution_count": 39,
   "metadata": {},
   "outputs": [],
   "source": [
    "gamma = 2\n",
    "def gaussian_kernel(x1, x2):\n",
    "    res = math.e**(-gamma*np.dot(x1-x2,x1-x2))\n",
    "    return res"
   ]
  },
  {
   "cell_type": "code",
   "execution_count": 40,
   "metadata": {},
   "outputs": [],
   "source": [
    "def gram_matrix(X, kernel):\n",
    "    num_samples = X.shape[0]\n",
    "    K = np.zeros((num_samples, num_samples))\n",
    "    for i in range(num_samples):\n",
    "        for j in range(num_samples):\n",
    "            K[i, j] = kernel(X[i], X[j])\n",
    "    return K"
   ]
  },
  {
   "cell_type": "code",
   "execution_count": 7,
   "metadata": {},
   "outputs": [],
   "source": [
    "def soft_svm_solver(X, Y, C, kernel):\n",
    "    num_samples, num_features = X.shape\n",
    "    K = gram_matrix(X, kernel)\n",
    "    P = matrix(np.outer(Y,Y)*K)\n",
    "    q = matrix(np.ones(num_samples)*-1)\n",
    "    A = matrix(Y, (1, num_samples))\n",
    "    b = matrix(0.0)\n",
    "    G = matrix(np.vstack((np.diag(np.ones(num_samples) * -1), np.identity(num_samples))))\n",
    "    h = matrix(np.hstack((np.zeros(num_samples), np.ones(num_samples) * C)))\n",
    "    solution = solvers.qp(P, q, G, h, A, b)\n",
    "    alpha = np.array(solution['x'])\n",
    "    threshold_alpha = np.copy(alpha)\n",
    "    sv = alpha < 1e-4\n",
    "    threshold_alpha[sv] = 0\n",
    "    return threshold_alpha"
   ]
  },
  {
   "cell_type": "code",
   "execution_count": 24,
   "metadata": {},
   "outputs": [
    {
     "name": "stdout",
     "output_type": "stream",
     "text": [
      "     pcost       dcost       gap    pres   dres\n",
      " 0: -2.2102e+02 -1.1032e+03  6e+03  3e+00  2e-14\n",
      " 1: -1.4926e+02 -7.6319e+02  1e+03  4e-01  1e-14\n",
      " 2: -1.3704e+02 -2.4046e+02  1e+02  1e-02  1e-14\n",
      " 3: -1.5807e+02 -1.8764e+02  3e+01  3e-03  9e-15\n",
      " 4: -1.6226e+02 -1.8229e+02  2e+01  2e-03  8e-15\n",
      " 5: -1.6618e+02 -1.7648e+02  1e+01  7e-04  8e-15\n",
      " 6: -1.6783e+02 -1.7420e+02  6e+00  3e-04  8e-15\n",
      " 7: -1.6882e+02 -1.7293e+02  4e+00  2e-04  8e-15\n",
      " 8: -1.6948e+02 -1.7191e+02  2e+00  7e-05  8e-15\n",
      " 9: -1.6966e+02 -1.7168e+02  2e+00  4e-05  8e-15\n",
      "10: -1.7047e+02 -1.7073e+02  3e-01  3e-06  1e-14\n",
      "11: -1.7057e+02 -1.7062e+02  6e-02  5e-07  1e-14\n",
      "12: -1.7059e+02 -1.7059e+02  2e-03  9e-09  1e-14\n",
      "13: -1.7059e+02 -1.7059e+02  2e-05  9e-11  9e-15\n",
      "Optimal solution found.\n"
     ]
    }
   ],
   "source": [
    "train = np.loadtxt('data/data2_train.csv')\n",
    "X = train[:,0:2]\n",
    "Y = train[:, 2:3]\n",
    "C = 1\n",
    "num_samples, num_features = X.shape\n",
    "a = soft_svm_solver(X, Y, C, kernel)"
   ]
  },
  {
   "cell_type": "code",
   "execution_count": 13,
   "metadata": {},
   "outputs": [
    {
     "name": "stdout",
     "output_type": "stream",
     "text": [
      "[0.01007478]\n"
     ]
    }
   ],
   "source": [
    "# we now compute the bias term as described above\n",
    "bias_list = [] # this is a list of values y_s - w^T x_s for all support vectors\n",
    "for idx in np.nonzero(a)[0]:\n",
    "    b_sum = 0\n",
    "    for i in range(X.shape[0]):\n",
    "        b_sum += a[i]*Y[i]*kernel(X[i], X[idx])\n",
    "    bias_list.append(Y[idx] - b_sum)\n",
    "b = statistics.median(bias_list)\n",
    "print(b)"
   ]
  },
  {
   "cell_type": "markdown",
   "metadata": {},
   "source": [
    "To predict the classification of a new point, we use the following formula \n",
    "$$\n",
    "f(x) = w^Tx + b = b + \\sum_{i=1}^N \\alpha_iy_iK(x_i, x).\n",
    "$$ \n",
    "When using linear kernels it's faster to initially compute the weight vector $w$ and then predict using the first formula, but this doesn't work when trying to use nonlinear kernels since then we have to first compute the transformed feature vectors. The following function finds $w$ in the case when the kernel is the standard dot product. "
   ]
  },
  {
   "cell_type": "code",
   "execution_count": 46,
   "metadata": {},
   "outputs": [
    {
     "name": "stdout",
     "output_type": "stream",
     "text": [
      "[ 1.31477194 -0.04219494]\n"
     ]
    }
   ],
   "source": [
    "def find_w():\n",
    "    coef = a*Y\n",
    "    coef = coef.flatten()\n",
    "    w = np.sum(X*coef[:, np.newaxis], axis=0)\n",
    "    return w\n",
    "print(find_w())"
   ]
  },
  {
   "cell_type": "code",
   "execution_count": 74,
   "metadata": {},
   "outputs": [
    {
     "data": {
      "image/png": "[encoded data removed]",
      "text/plain": [
       "<Figure size 432x288 with 1 Axes>"
      ]
     },
     "metadata": {
      "needs_background": "light"
     },
     "output_type": "display_data"
    }
   ],
   "source": [
    "fig, ax = plt.subplots()\n",
    "x = np.linspace(-5,5,100)\n",
    "ax.set(xlim=(-5, 5), ylim=(-5, 5))\n",
    "ax.scatter(train[np.ix_(train[:,2]>0, [0])], train[np.ix_(train[:,2]>0, [1])], color = 'g')\n",
    "ax.scatter(train[np.ix_(train[:,2]<0, [0])], train[np.ix_(train[:,2]<0, [1])], color = 'r')\n",
    "plt.plot(x,(-find_w()[0]*x - b)/find_w()[1], '-b')\n",
    "plt.plot(x,(-find_w()[0]*x - b +1)/find_w()[1], ':b')\n",
    "plt.plot(x,(-find_w()[0]*x - b -1)/find_w()[1], ':b')\n",
    "plt.show()"
   ]
  },
  {
   "cell_type": "code",
   "execution_count": 16,
   "metadata": {},
   "outputs": [
    {
     "name": "stdout",
     "output_type": "stream",
     "text": [
      "[1.73223246]\n"
     ]
    }
   ],
   "source": [
    "def predictSVM(x):\n",
    "    pred_sum = 0\n",
    "    for i in range(num_samples):\n",
    "        pred_sum += a[i]*Y[i]*kernel(X[i],x)\n",
    "    return pred_sum + b\n",
    "print(predictSVM(X[4]))"
   ]
  },
  {
   "cell_type": "code",
   "execution_count": 35,
   "metadata": {},
   "outputs": [
    {
     "name": "stdout",
     "output_type": "stream",
     "text": [
      "0.1725\n"
     ]
    }
   ],
   "source": [
    "def classification_error_rate(X, Y, func):\n",
    "    errors = 0\n",
    "    for i in range(X.shape[0]):\n",
    "        if np.sign(func(X[i])) != np.sign(Y[i]):\n",
    "            errors +=1\n",
    "    return errors/X.shape[0]\n",
    "print(classification_error_rate(X, Y, predictSVM))"
   ]
  },
  {
   "cell_type": "code",
   "execution_count": null,
   "metadata": {},
   "outputs": [],
   "source": [
    "(X_validation, Y_validation) = csv_to_arrays()\n",
    "print(classification_error_rate(X_validation, Y_validation))"
   ]
  },
  {
   "cell_type": "markdown",
   "metadata": {},
   "source": [
    "The Pegasos algorithm attempts to find the solution to the soft SVM problem by using stochastic gradient descent and a decaying step size. It attempts to find the solution to the optimization problem: "
   ]
  },
  {
   "cell_type": "markdown",
   "metadata": {},
   "source": [
    "$$\\min_w \\frac{\\lambda}{2}\\lVert w \\rVert^2 + \\frac{1}{N}\\sum_{i=1}^N \\max(0, 1-y_i(w^Tx_i + b).$$"
   ]
  },
  {
   "cell_type": "markdown",
   "metadata": {},
   "source": [
    "We find the bias term $b$ by creating an outer loop and evaluating various possible choices for $b$ after having optimized $w$. The reason for this is that the original Pegasos paper recommends this approach due to its faster convergence. The step size is originally set to $\\frac{1}{\\lambda}$ and decays with $\\frac{1}{t}$. "
   ]
  },
  {
   "cell_type": "code",
   "execution_count": 25,
   "metadata": {},
   "outputs": [],
   "source": [
    "# helper function for pegasos_linearSVM, finds value of the above objective function\n",
    "def find_loss(X, Y, w, b, lam):\n",
    "    loss = (lam/2)*np.dot(w, w)\n",
    "    for i in range(num_samples):\n",
    "        loss += (1/num_samples)*np.maximum(0, 1-Y[i]*(np.dot(w, X[i] + b)))\n",
    "    return loss"
   ]
  },
  {
   "cell_type": "code",
   "execution_count": 31,
   "metadata": {},
   "outputs": [],
   "source": [
    "def pegasos_linearSVM(X, Y, lam, max_epochs):\n",
    "    best_loss = math.inf\n",
    "    epoch = 0\n",
    "    t = 0\n",
    "    num_samples, num_features = X.shape\n",
    "    w = np.zeros(num_features)\n",
    "    b_seq = np.linspace(-50, 50, 500)\n",
    "    for b in b_seq:\n",
    "        while epoch < max_epochs:\n",
    "            epoch += 1\n",
    "            for i in range(num_samples):\n",
    "                t += 1\n",
    "                eta_t = 1/(t*lam)\n",
    "                if Y[i]*(np.dot(w, X[i])+b) < 1:\n",
    "                    w = (1-eta_t*lam)*w + eta_t*X[i]*Y[i]\n",
    "                else:\n",
    "                    w = (1- eta_t*lam)*w\n",
    "        if find_loss(X, Y, w, b, lam) < best_loss:\n",
    "            best_loss = find_loss(X, Y, w, b, lam)\n",
    "            best_pair = (w,b)\n",
    "    return best_pair"
   ]
  },
  {
   "cell_type": "code",
   "execution_count": 33,
   "metadata": {},
   "outputs": [
    {
     "name": "stdout",
     "output_type": "stream",
     "text": [
      "(array([2.17566199, 0.13991093]), 0.10020040080160442)\n"
     ]
    }
   ],
   "source": [
    "(w, b) = pegasos_linearSVM(X, Y, .2, 100)\n",
    "print((w, b))"
   ]
  },
  {
   "cell_type": "code",
   "execution_count": 36,
   "metadata": {},
   "outputs": [
    {
     "name": "stdout",
     "output_type": "stream",
     "text": [
      "2.7301844906263515\n",
      "0.1725\n"
     ]
    }
   ],
   "source": [
    "def predict_linearSVM(x):\n",
    "    return np.dot(w, x) + b\n",
    "print(predict_linearSVM(X[4]))\n",
    "print(classification_error_rate(X, Y, predict_linearSVM))"
   ]
  },
  {
   "cell_type": "markdown",
   "metadata": {},
   "source": [
    "We also implement Pegasos with a Gaussian RBF kernel. "
   ]
  },
  {
   "cell_type": "code",
   "execution_count": 42,
   "metadata": {},
   "outputs": [],
   "source": [
    "def pegasos_gaussianSVM(X, Y, K, lam, max_epochs):\n",
    "    t = 0\n",
    "    num_samples = X.shape[0]\n",
    "    alpha = np.zeros((num_samples))\n",
    "    epoch = 0\n",
    "    while epoch < max_epochs:\n",
    "        epoch += 1\n",
    "        for i in range(num_samples):\n",
    "            t += 1\n",
    "            eta_t = 1/(t*lam)\n",
    "            test_sum =0 \n",
    "            for j in range(num_samples):\n",
    "                test_sum += alpha[j]*Y[j]*K[i, j]\n",
    "            if Y[i]*test_sum < 1:\n",
    "                alpha[i] = (1-eta_t*lam)*alpha[i] + eta_t\n",
    "            else:\n",
    "                alpha[i] = (1-eta_t*lam)*alpha[i]\n",
    "    return alpha\n",
    "\n",
    "alpha = pegasos_gaussianSVM(X, Y, gram_matrix(X, gaussian_kernel), .02, 1000)"
   ]
  },
  {
   "cell_type": "code",
   "execution_count": 43,
   "metadata": {},
   "outputs": [
    {
     "name": "stdout",
     "output_type": "stream",
     "text": [
      "[24.38508962]\n",
      "0.06\n"
     ]
    }
   ],
   "source": [
    "def predict_gaussianSVM(x):\n",
    "    pred_sum = 0\n",
    "    for i in range(num_samples):\n",
    "        pred_sum += alpha[i]*Y[i]*gaussian_kernel(X[i], x)\n",
    "    return pred_sum\n",
    "\n",
    "print(predict_gaussianSVM(X[4]))\n",
    "print(classification_error_rate(X, Y, predict_gaussianSVM))"
   ]
  }
 ],
 "metadata": {
  "kernelspec": {
   "display_name": "Python 3",
   "language": "python",
   "name": "python3"
  },
  "language_info": {
   "codemirror_mode": {
    "name": "ipython",
    "version": 3
   },
   "file_extension": ".py",
   "mimetype": "text/x-python",
   "name": "python",
   "nbconvert_exporter": "python",
   "pygments_lexer": "ipython3",
   "version": "3.7.3"
  }
 },
 "nbformat": 4,
 "nbformat_minor": 2
}
