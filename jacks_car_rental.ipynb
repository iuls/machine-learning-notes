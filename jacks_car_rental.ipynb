{
 "cells": [
  {
   "cell_type": "markdown",
   "metadata": {},
   "source": [
    "# Policy iteration - Jack's car rental example"
   ]
  },
  {
   "cell_type": "markdown",
   "metadata": {},
   "source": [
    "This notebook provides code to illustrate policy iteration. It is based off of Example 4.2 (page 81) of the book Reinforcement Learning by Sutton and Barto. "
   ]
  },
  {
   "cell_type": "code",
   "execution_count": 1,
   "metadata": {},
   "outputs": [],
   "source": [
    "import numpy as np\n",
    "import matplotlib as mpl\n",
    "import matplotlib.pyplot as plt\n",
    "import time\n",
    "import random\n",
    "import math\n",
    "import seaborn as sn"
   ]
  },
  {
   "cell_type": "markdown",
   "metadata": {},
   "source": [
    "We first define all of the parameters for the problem. "
   ]
  },
  {
   "cell_type": "code",
   "execution_count": 2,
   "metadata": {},
   "outputs": [],
   "source": [
    "n_cars = 20+1    # max number of cars at each location plus 1\n",
    "lam_request1 = 3 # expected number of requests for cars per day at location 1, modelled by poisson distribution\n",
    "lam_request2 = 4 # '' for location 2\n",
    "lam_return1 = 3  # expected number of returns per day at location 1\n",
    "lam_return2 = 2  # '' for location 2\n",
    "gamma = 0.9      # gamma from value function update (value close to 0 means future returns ignored)\n",
    "rental_reward = 10  # the reward per car rented\n",
    "max_cars_moved = 5  # the maximum number of cars moved overnight\n",
    "moving_cost = 2     # the cost of moving a car"
   ]
  },
  {
   "cell_type": "code",
   "execution_count": 3,
   "metadata": {},
   "outputs": [],
   "source": [
    "def poisson_prob(lam, n):\n",
    "    return lam**n/math.factorial(n)*np.exp(-lam)"
   ]
  },
  {
   "cell_type": "code",
   "execution_count": 4,
   "metadata": {},
   "outputs": [
    {
     "data": {
      "text/plain": [
       "29.828059210679786"
      ]
     },
     "execution_count": 4,
     "metadata": {},
     "output_type": "execute_result"
    }
   ],
   "source": [
    "def day_earnings(lam_request, cars_available):\n",
    "    earnings = 0\n",
    "    accumulated = poisson_prob(lam_request, 0) # will represent the probability that <= cars_available are requested\n",
    "    for cars in range(1,cars_available+1):\n",
    "        earnings += rental_reward*cars*poisson_prob(lam_request, cars)\n",
    "        accumulated += poisson_prob(lam_request, cars)\n",
    "    earnings += rental_reward*cars_available*(1-accumulated)\n",
    "    return earnings\n",
    "\n",
    "day_earnings(3, 7)"
   ]
  },
  {
   "cell_type": "code",
   "execution_count": 5,
   "metadata": {},
   "outputs": [
    {
     "name": "stdout",
     "output_type": "stream",
     "text": [
      "(7, 0, -5)\n"
     ]
    }
   ],
   "source": [
    "# computes the number of cars at each location if we choose to move m cars overnight\n",
    "# positive m represents cars moved from location 1 to 2, negative m represents cars moved from 2 to 1\n",
    "\n",
    "def transition(state, m):\n",
    "    (loc1, loc2) = state\n",
    "    new_loc1 = max(loc1 - m, 0) if m >= 0 else min(min(loc1 - m, loc1 + loc2), n_cars - 1)\n",
    "    new_loc2 = min(loc2 + loc1 - new_loc1, n_cars - 1) if m >= 0 else max(loc2 + m, 0)\n",
    "    cars_moved = min(m, loc1) if m >= 0 else -min(-m, loc2)\n",
    "    return (new_loc1, new_loc2, cars_moved)\n",
    "\n",
    "print(transition((2,5), -5))"
   ]
  },
  {
   "cell_type": "code",
   "execution_count": 6,
   "metadata": {},
   "outputs": [],
   "source": [
    "# assume cars are returned at night\n",
    "\n",
    "def transition_probability_per_loc(morning_num, night_num, lam_request, lam_return):\n",
    "    prob = 0\n",
    "    diff = morning_num - night_num\n",
    "    if night_num != n_cars-1:\n",
    "        for requests in range(max(0, diff), 4*lam_request):\n",
    "            returns = min(-diff + requests, night_num)\n",
    "            prob += poisson_prob(lam_return, returns)*poisson_prob(lam_request, requests)\n",
    "    else:\n",
    "        for requests in range(4*lam_request):\n",
    "            for returns in range(requests-diff, 4*lam_return):\n",
    "                prob += poisson_prob(lam_return, returns)*poisson_prob(lam_request, requests)\n",
    "    return prob"
   ]
  },
  {
   "cell_type": "code",
   "execution_count": 7,
   "metadata": {},
   "outputs": [
    {
     "data": {
      "text/plain": [
       "0.006384423552369645"
      ]
     },
     "execution_count": 7,
     "metadata": {},
     "output_type": "execute_result"
    }
   ],
   "source": [
    "def transition_probability(old_state, new_state, m):\n",
    "    (morning_num1, morning_num2, _) = transition(old_state, m)\n",
    "    (night_num1, night_num2) = new_state\n",
    "    prob1 = transition_probability_per_loc(morning_num1, night_num1, lam_request1, lam_return1)\n",
    "    prob2 = transition_probability_per_loc(morning_num2, night_num2, lam_request2, lam_return2)\n",
    "    return prob1*prob2\n",
    "    \n",
    "transition_probability((0,5), (0,5), 0)"
   ]
  },
  {
   "cell_type": "code",
   "execution_count": 8,
   "metadata": {},
   "outputs": [],
   "source": [
    "def all_transition_probabilities(state, m):\n",
    "    transition_probabilities = np.zeros((n_cars, n_cars))\n",
    "    for i in range(n_cars):\n",
    "        for j in range(n_cars):\n",
    "            transition_probabilities[i,j] = transition_probability(state, (i,j), m)\n",
    "    return transition_probabilities\n",
    "\n",
    "\n",
    "def probabilities_truncate(transition_prob, cutoff):\n",
    "    transition_prob[transition_prob < cutoff] = 0\n",
    "    return transition_prob    "
   ]
  },
  {
   "cell_type": "code",
   "execution_count": 9,
   "metadata": {},
   "outputs": [],
   "source": [
    "def reward(state, m):\n",
    "    # action = m = number of cars to move from 1 to 2\n",
    "    (loc1, loc2) = state\n",
    "    (new_loc1, new_loc2, cars_moved) = transition(state, m)\n",
    "    loc1_reward = day_earnings(lam_request1, new_loc1)\n",
    "    loc2_reward = day_earnings(lam_request2, new_loc2)\n",
    "    total_reward = -moving_cost*abs(cars_moved) + loc1_reward + loc2_reward\n",
    "    return total_reward"
   ]
  },
  {
   "cell_type": "code",
   "execution_count": 10,
   "metadata": {},
   "outputs": [],
   "source": [
    "truncation_cutoff = 10**-6"
   ]
  },
  {
   "cell_type": "code",
   "execution_count": 11,
   "metadata": {},
   "outputs": [],
   "source": [
    "# synchronous update\n",
    "def update_values(values, policy):\n",
    "    new_values = np.zeros((n_cars,n_cars))\n",
    "    for i in range(n_cars):\n",
    "        for j in range(n_cars):\n",
    "            m = policy[i,j]\n",
    "            transition_probabilities = all_transition_probabilities((i,j), m)\n",
    "            trunc_transition_prob = probabilities_truncate(transition_probabilities, truncation_cutoff)\n",
    "            new_values[i,j] = reward((i, j), m) + gamma*np.sum(values*trunc_transition_prob)\n",
    "    return new_values"
   ]
  },
  {
   "cell_type": "code",
   "execution_count": 12,
   "metadata": {},
   "outputs": [],
   "source": [
    "def update_policy(values):\n",
    "    policy = np.zeros((n_cars, n_cars), dtype=np.int8)\n",
    "    for i in range(n_cars):\n",
    "        for j in range(n_cars):\n",
    "            best_reward = 0\n",
    "            best_action = 0\n",
    "            for m in range(-max_cars_moved, max_cars_moved+1):\n",
    "                (new_i, new_j, cars_moved) = transition((i,j), m)\n",
    "                transition_probabilities = all_transition_probabilities((i,j), m)\n",
    "                trunc_transition_prob = probabilities_truncate(transition_probabilities, truncation_cutoff)\n",
    "                _reward = reward((i, j), m) + gamma*np.sum(values*trunc_transition_prob)\n",
    "                if _reward > best_reward:\n",
    "                    best_reward = _reward\n",
    "                    best_action = cars_moved\n",
    "            policy[i,j] = best_action\n",
    "    return policy"
   ]
  },
  {
   "cell_type": "code",
   "execution_count": 17,
   "metadata": {},
   "outputs": [],
   "source": [
    "def policy_iteration(initial_values, initial_policy, policy_iters, value_iters, eps=None, stopping_point=50):\n",
    "    values = initial_values\n",
    "    policy = initial_policy\n",
    "    for k in range(policy_iters):\n",
    "        print(\"Starting policy iteration\", k)\n",
    "        if eps != None:\n",
    "            value_diff = np.full((n_cars, n_cars), np.inf)\n",
    "            stop = 0\n",
    "            while (np.absolute(value_diff)>eps).any():\n",
    "                print(\"Maximum value update {:.2f}\".format(max(value_diff)))\n",
    "                new_values = update_values(values, policy)\n",
    "                value_diff = new_values - values\n",
    "                values = new_values\n",
    "                if stop > stopping_point:\n",
    "                    break\n",
    "                stop += 1\n",
    "        else:\n",
    "            for i in range(value_iters):\n",
    "                values = update_values(values, policy)\n",
    "        policy = update_policy(values)\n",
    "    return (values, policy)"
   ]
  },
  {
   "cell_type": "code",
   "execution_count": 18,
   "metadata": {},
   "outputs": [],
   "source": [
    "initial_policy = np.zeros((n_cars,n_cars), dtype=np.int8)"
   ]
  },
  {
   "cell_type": "code",
   "execution_count": 19,
   "metadata": {},
   "outputs": [],
   "source": [
    "initial_values = np.zeros((n_cars,n_cars))"
   ]
  },
  {
   "cell_type": "code",
   "execution_count": 20,
   "metadata": {},
   "outputs": [
    {
     "name": "stdout",
     "output_type": "stream",
     "text": [
      "Starting policy iteration 0\n",
      "Starting policy iteration 1\n",
      "Starting policy iteration 2\n"
     ]
    }
   ],
   "source": [
    "(values, policy) = policy_iteration(initial_values = initial_values, initial_policy = initial_policy, \n",
    "                                    policy_iters=3, value_iters=5)"
   ]
  },
  {
   "cell_type": "code",
   "execution_count": 21,
   "metadata": {},
   "outputs": [
    {
     "data": {
      "text/plain": [
       "<matplotlib.axes._subplots.AxesSubplot at 0x12a6a9290>"
      ]
     },
     "execution_count": 21,
     "metadata": {},
     "output_type": "execute_result"
    },
    {
     "data": {
      "image/png": "[encoded data removed]",
      "text/plain": [
       "<Figure size 432x288 with 2 Axes>"
      ]
     },
     "metadata": {
      "needs_background": "light"
     },
     "output_type": "display_data"
    }
   ],
   "source": [
    "sn.heatmap(policy)"
   ]
  },
  {
   "cell_type": "code",
   "execution_count": null,
   "metadata": {},
   "outputs": [],
   "source": []
  }
 ],
 "metadata": {
  "kernelspec": {
   "display_name": "Python 3",
   "language": "python",
   "name": "python3"
  },
  "language_info": {
   "codemirror_mode": {
    "name": "ipython",
    "version": 3
   },
   "file_extension": ".py",
   "mimetype": "text/x-python",
   "name": "python",
   "nbconvert_exporter": "python",
   "pygments_lexer": "ipython3",
   "version": "3.7.4"
  }
 },
 "nbformat": 4,
 "nbformat_minor": 2
}
